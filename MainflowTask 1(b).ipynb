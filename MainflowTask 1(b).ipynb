{
 "cells": [
  {
   "cell_type": "code",
   "execution_count": null,
   "id": "8863712d-0e91-4260-9a15-1e3153555fc6",
   "metadata": {},
   "outputs": [],
   "source": [
    "1.Tasks to Perform\n",
    "a. Data Loading\n",
    "● Load the dataset using pandas.\n",
    "● Display the first few rows using .head()."
   ]
  },
  {
   "cell_type": "code",
   "execution_count": 5,
   "id": "0cea4775-335d-4f6e-9e83-345f488ded89",
   "metadata": {},
   "outputs": [
    {
     "name": "stdout",
     "output_type": "stream",
     "text": [
      "First few rows of the dataset:\n",
      "  school;sex;age;address;famsize;Pstatus;Medu;Fedu;Mjob;Fjob;reason;guardian;traveltime;studytime;failures;schoolsup;famsup;paid;activities;nursery;higher;internet;romantic;famrel;freetime;goout;Dalc;Walc;health;absences;G1;G2;G3\n",
      "0  GP;\"F\";18;\"U\";\"GT3\";\"A\";4;4;\"at_home\";\"teacher...                                                                                                                                                                                 \n",
      "1  GP;\"F\";17;\"U\";\"GT3\";\"T\";1;1;\"at_home\";\"other\";...                                                                                                                                                                                 \n",
      "2  GP;\"F\";15;\"U\";\"LE3\";\"T\";1;1;\"at_home\";\"other\";...                                                                                                                                                                                 \n",
      "3  GP;\"F\";15;\"U\";\"GT3\";\"T\";4;2;\"health\";\"services...                                                                                                                                                                                 \n",
      "4  GP;\"F\";16;\"U\";\"GT3\";\"T\";3;3;\"other\";\"other\";\"h...                                                                                                                                                                                 \n"
     ]
    }
   ],
   "source": [
    "import pandas as pd\n",
    "\n",
    "file_path = r\"C:\\Users\\Ashish\\OneDrive\\Desktop\\Jupyter Notebook\\student-por.xlsx\"\n",
    "\n",
    "data = pd.read_excel(file_path)\n",
    "\n",
    "print(\"First few rows of the dataset:\")\n",
    "print(data.head())\n"
   ]
  },
  {
   "cell_type": "code",
   "execution_count": null,
   "id": "dacc486f-e1d3-4432-8bd0-d5e5e9a2512b",
   "metadata": {},
   "outputs": [],
   "source": [
    "b.Data Exploration \n",
    "i: Check for missing values using .isnull().sum().\n",
    "ii: Display column data types using .dtypes.\n",
    "iii: Understand the dataset's size using .shape.\n"
   ]
  },
  {
   "cell_type": "code",
   "execution_count": 6,
   "id": "2fe3e434-b638-463b-b23b-72f267954ba1",
   "metadata": {},
   "outputs": [
    {
     "name": "stdout",
     "output_type": "stream",
     "text": [
      "\n",
      "Missing values in each column:\n",
      "school;sex;age;address;famsize;Pstatus;Medu;Fedu;Mjob;Fjob;reason;guardian;traveltime;studytime;failures;schoolsup;famsup;paid;activities;nursery;higher;internet;romantic;famrel;freetime;goout;Dalc;Walc;health;absences;G1;G2;G3    0\n",
      "dtype: int64\n"
     ]
    }
   ],
   "source": [
    "import pandas as pd\n",
    "file_path = r\"C:\\Users\\Ashish\\OneDrive\\Desktop\\Jupyter Notebook\\student-por.xlsx\"  # Update the file path if necessary\n",
    "data = pd.read_excel(file_path)\n",
    "\n",
    "# i. Check for missing values\n",
    "missing_values = data.isnull().sum()\n",
    "print(\"\\nMissing values in each column:\")\n",
    "print(missing_values)\n"
   ]
  },
  {
   "cell_type": "code",
   "execution_count": 7,
   "id": "f33c184c-ce60-463b-9020-94862cf9c48a",
   "metadata": {},
   "outputs": [
    {
     "name": "stdout",
     "output_type": "stream",
     "text": [
      "\n",
      "Column data types:\n",
      "school;sex;age;address;famsize;Pstatus;Medu;Fedu;Mjob;Fjob;reason;guardian;traveltime;studytime;failures;schoolsup;famsup;paid;activities;nursery;higher;internet;romantic;famrel;freetime;goout;Dalc;Walc;health;absences;G1;G2;G3    object\n",
      "dtype: object\n"
     ]
    }
   ],
   "source": [
    "import pandas as pd\n",
    "\n",
    "file_path = r\"C:\\Users\\Ashish\\OneDrive\\Desktop\\Jupyter Notebook\\student-por.xlsx\"  # Update the file path if necessary\n",
    "data = pd.read_excel(file_path)\n",
    "\n",
    "# ii. Display column data types\n",
    "column_types = data.dtypes\n",
    "print(\"\\nColumn data types:\")\n",
    "print(column_types)\n"
   ]
  },
  {
   "cell_type": "code",
   "execution_count": 8,
   "id": "a8726330-973a-4646-bc22-356983d63199",
   "metadata": {},
   "outputs": [
    {
     "name": "stdout",
     "output_type": "stream",
     "text": [
      "\n",
      "Dataset size (rows, columns):\n",
      "(649, 1)\n"
     ]
    }
   ],
   "source": [
    "import pandas as pd\n",
    "\n",
    "file_path = r\"C:\\Users\\Ashish\\OneDrive\\Desktop\\Jupyter Notebook\\student-por.xlsx\"  # Update the file path if necessary\n",
    "data = pd.read_excel(file_path)\n",
    "\n",
    "# iii. Understand the dataset's size\n",
    "dataset_size = data.shape\n",
    "print(\"\\nDataset size (rows, columns):\")\n",
    "print(dataset_size)\n"
   ]
  },
  {
   "cell_type": "code",
   "execution_count": null,
   "id": "aeec24af-d052-4362-acba-501d5c6cb4ac",
   "metadata": {},
   "outputs": [],
   "source": [
    "c. Data Cleaning\n",
    "i. Handle missing values (e.g., replace them with the median or remove rows).\n",
    "ii. Remove duplicate entries using .drop_duplicates()."
   ]
  },
  {
   "cell_type": "code",
   "execution_count": 9,
   "id": "cfb02746-8056-4227-a724-f1bce0c307b5",
   "metadata": {},
   "outputs": [
    {
     "name": "stdout",
     "output_type": "stream",
     "text": [
      "After Data Cleaning:\n",
      "\n",
      "Missing values after cleaning:\n",
      "school;sex;age;address;famsize;Pstatus;Medu;Fedu;Mjob;Fjob;reason;guardian;traveltime;studytime;failures;schoolsup;famsup;paid;activities;nursery;higher;internet;romantic;famrel;freetime;goout;Dalc;Walc;health;absences;G1;G2;G3    0\n",
      "dtype: int64\n",
      "\n",
      "Dataset size after cleaning (rows, columns): (649, 1)\n"
     ]
    }
   ],
   "source": [
    "import pandas as pd\n",
    "\n",
    "file_path = r\"C:\\Users\\Ashish\\OneDrive\\Desktop\\Jupyter Notebook\\student-por.xlsx\"  # Update the path if necessary\n",
    "data = pd.read_excel(file_path)\n",
    "\n",
    "# i. Handle missing values\n",
    "data = data.fillna(data.median(numeric_only=True))\n",
    "\n",
    "# ii. Remove duplicate entries\n",
    "data = data.drop_duplicates()\n",
    "print(\"After Data Cleaning:\")\n",
    "\n",
    "missing_values_after = data.isnull().sum()\n",
    "print(\"\\nMissing values after cleaning:\")\n",
    "print(missing_values_after)\n",
    "\n",
    "print(f\"\\nDataset size after cleaning (rows, columns): {data.shape}\")\n"
   ]
  },
  {
   "cell_type": "code",
   "execution_count": null,
   "id": "27ed600b-ca80-4474-86ec-8040eee206d6",
   "metadata": {},
   "outputs": [],
   "source": [
    "d. Data Analysis Questions\n",
    "i. What is the average score in math (G3)?\n",
    "ii. How many students scored above 15 in their final grade (G3)?\n",
    "iii. Is there a correlation between study time (study time) and the final grade (G3)?\n",
    "iv. Which gender has a higher average final grade (G3)?"
   ]
  },
  {
   "cell_type": "code",
   "execution_count": 10,
   "id": "329db1fe-e31d-4c12-ba41-c281eab7dffa",
   "metadata": {},
   "outputs": [
    {
     "name": "stdout",
     "output_type": "stream",
     "text": [
      "\n",
      "Columns in the dataset after loading: Index(['school', 'sex', 'age', 'address', 'famsize', 'pstatus', 'medu', 'fedu',\n",
      "       'mjob', 'fjob', 'reason', 'guardian', 'traveltime', 'studytime',\n",
      "       'failures', 'schoolsup', 'famsup', 'paid', 'activities', 'nursery',\n",
      "       'higher', 'internet', 'romantic', 'famrel', 'freetime', 'goout', 'dalc',\n",
      "       'walc', 'health', 'absences', 'g1', 'g2', 'g3'],\n",
      "      dtype='object')\n",
      "\n",
      "First few rows of the processed data:\n",
      "  school  sex  age address famsize pstatus medu fedu       mjob        fjob  \\\n",
      "0     GP  \"F\"   18     \"U\"   \"GT3\"     \"A\"    4    4  \"at_home\"   \"teacher\"   \n",
      "1     GP  \"F\"   17     \"U\"   \"GT3\"     \"T\"    1    1  \"at_home\"     \"other\"   \n",
      "2     GP  \"F\"   15     \"U\"   \"LE3\"     \"T\"    1    1  \"at_home\"     \"other\"   \n",
      "3     GP  \"F\"   15     \"U\"   \"GT3\"     \"T\"    4    2   \"health\"  \"services\"   \n",
      "4     GP  \"F\"   16     \"U\"   \"GT3\"     \"T\"    3    3    \"other\"     \"other\"   \n",
      "\n",
      "   ... famrel freetime goout  dalc walc health absences  g1  g2  g3  \n",
      "0  ...      4        3     4     1    1      3        4   0  11  11  \n",
      "1  ...      5        3     3     1    1      3        2   9  11  11  \n",
      "2  ...      4        3     2     2    3      3        6  12  13  12  \n",
      "3  ...      3        2     2     1    1      5        0  14  14  14  \n",
      "4  ...      4        3     2     1    2      5        0  11  13  13  \n",
      "\n",
      "[5 rows x 33 columns]\n",
      "\n",
      "Average score in math (G3): 11.91\n"
     ]
    }
   ],
   "source": [
    "import pandas as pd\n",
    "\n",
    "file_path = r\"C:\\Users\\Ashish\\OneDrive\\Desktop\\Jupyter Notebook\\student-por.xlsx\"\n",
    "\n",
    "try:\n",
    "    raw_data = pd.read_excel(file_path)\n",
    "  \n",
    "    data = pd.DataFrame([x.split(';') for x in raw_data.iloc[:, 0].str.strip().values],\n",
    "                       columns=['school', 'sex', 'age', 'address', 'famsize', 'pstatus',\n",
    "                               'medu', 'fedu', 'mjob', 'fjob', 'reason', 'guardian',\n",
    "                               'traveltime', 'studytime', 'failures', 'schoolsup',\n",
    "                               'famsup', 'paid', 'activities', 'nursery', 'higher',\n",
    "                               'internet', 'romantic', 'famrel', 'freetime', 'goout',\n",
    "                               'dalc', 'walc', 'health', 'absences', 'g1', 'g2', 'g3'])\n",
    "    \n",
    "    numeric_columns = ['age', 'studytime', 'g1', 'g2', 'g3']\n",
    "    for col in numeric_columns:\n",
    "        data[col] = data[col].str.replace('\"', '').str.strip()\n",
    "        data[col] = pd.to_numeric(data[col], errors='coerce')\n",
    "\n",
    "    print(\"\\nColumns in the dataset after loading:\", data.columns)\n",
    "    print(\"\\nFirst few rows of the processed data:\")\n",
    "    print(data.head())\n",
    "\n",
    "    # i. What is the average score in math (G3)?\n",
    "    average_score = data['g3'].mean()\n",
    "    print(f\"\\nAverage score in math (G3): {average_score:.2f}\")\n",
    "except Exception as e:\n",
    "    print(f\"Error processing the file: {e}\")\n",
    "    raise\n"
   ]
  },
  {
   "cell_type": "code",
   "execution_count": 11,
   "id": "93375f1d-dd6b-482b-90c9-db2418cef146",
   "metadata": {},
   "outputs": [
    {
     "name": "stdout",
     "output_type": "stream",
     "text": [
      "\n",
      "Columns in the dataset after loading: Index(['school', 'sex', 'age', 'address', 'famsize', 'pstatus', 'medu', 'fedu',\n",
      "       'mjob', 'fjob', 'reason', 'guardian', 'traveltime', 'studytime',\n",
      "       'failures', 'schoolsup', 'famsup', 'paid', 'activities', 'nursery',\n",
      "       'higher', 'internet', 'romantic', 'famrel', 'freetime', 'goout', 'dalc',\n",
      "       'walc', 'health', 'absences', 'g1', 'g2', 'g3'],\n",
      "      dtype='object')\n",
      "\n",
      "First few rows of the processed data:\n",
      "  school  sex  age address famsize pstatus medu fedu       mjob        fjob  \\\n",
      "0     GP  \"F\"   18     \"U\"   \"GT3\"     \"A\"    4    4  \"at_home\"   \"teacher\"   \n",
      "1     GP  \"F\"   17     \"U\"   \"GT3\"     \"T\"    1    1  \"at_home\"     \"other\"   \n",
      "2     GP  \"F\"   15     \"U\"   \"LE3\"     \"T\"    1    1  \"at_home\"     \"other\"   \n",
      "3     GP  \"F\"   15     \"U\"   \"GT3\"     \"T\"    4    2   \"health\"  \"services\"   \n",
      "4     GP  \"F\"   16     \"U\"   \"GT3\"     \"T\"    3    3    \"other\"     \"other\"   \n",
      "\n",
      "   ... famrel freetime goout  dalc walc health absences  g1  g2  g3  \n",
      "0  ...      4        3     4     1    1      3        4   0  11  11  \n",
      "1  ...      5        3     3     1    1      3        2   9  11  11  \n",
      "2  ...      4        3     2     2    3      3        6  12  13  12  \n",
      "3  ...      3        2     2     1    1      5        0  14  14  14  \n",
      "4  ...      4        3     2     1    2      5        0  11  13  13  \n",
      "\n",
      "[5 rows x 33 columns]\n",
      "Number of students who scored above 15 in their final grade (G3): 82\n"
     ]
    }
   ],
   "source": [
    "import pandas as pd\n",
    "\n",
    "file_path = r\"C:\\Users\\Ashish\\OneDrive\\Desktop\\Jupyter Notebook\\student-por.xlsx\"\n",
    "\n",
    "try:\n",
    "    raw_data = pd.read_excel(file_path)\n",
    "    \n",
    "    data = pd.DataFrame([x.split(';') for x in raw_data.iloc[:, 0].str.strip().values],\n",
    "                       columns=['school', 'sex', 'age', 'address', 'famsize', 'pstatus',\n",
    "                               'medu', 'fedu', 'mjob', 'fjob', 'reason', 'guardian',\n",
    "                               'traveltime', 'studytime', 'failures', 'schoolsup',\n",
    "                               'famsup', 'paid', 'activities', 'nursery', 'higher',\n",
    "                               'internet', 'romantic', 'famrel', 'freetime', 'goout',\n",
    "                               'dalc', 'walc', 'health', 'absences', 'g1', 'g2', 'g3'])\n",
    "    \n",
    "    numeric_columns = ['age', 'studytime', 'g1', 'g2', 'g3']\n",
    "    for col in numeric_columns:\n",
    "        data[col] = data[col].str.replace('\"', '').str.strip()\n",
    "        data[col] = pd.to_numeric(data[col], errors='coerce')\n",
    "\n",
    "    print(\"\\nColumns in the dataset after loading:\", data.columns)\n",
    "    print(\"\\nFirst few rows of the processed data:\")\n",
    "    print(data.head())\n",
    "\n",
    "   # ii. How many students scored above 15 in their final grade (G3)?\n",
    "    students_above_15 = data[data['g3'] > 15].shape[0]\n",
    "    print(f\"Number of students who scored above 15 in their final grade (G3): {students_above_15}\")\n",
    "except Exception as e:\n",
    "    print(f\"Error processing the file: {e}\")\n",
    "    raise\n"
   ]
  },
  {
   "cell_type": "code",
   "execution_count": 12,
   "id": "dcf7da67-7930-47d5-9515-0f22f9da3526",
   "metadata": {},
   "outputs": [
    {
     "name": "stdout",
     "output_type": "stream",
     "text": [
      "\n",
      "Columns in the dataset after loading: Index(['school', 'sex', 'age', 'address', 'famsize', 'pstatus', 'medu', 'fedu',\n",
      "       'mjob', 'fjob', 'reason', 'guardian', 'traveltime', 'studytime',\n",
      "       'failures', 'schoolsup', 'famsup', 'paid', 'activities', 'nursery',\n",
      "       'higher', 'internet', 'romantic', 'famrel', 'freetime', 'goout', 'dalc',\n",
      "       'walc', 'health', 'absences', 'g1', 'g2', 'g3'],\n",
      "      dtype='object')\n",
      "\n",
      "First few rows of the processed data:\n",
      "  school  sex  age address famsize pstatus medu fedu       mjob        fjob  \\\n",
      "0     GP  \"F\"   18     \"U\"   \"GT3\"     \"A\"    4    4  \"at_home\"   \"teacher\"   \n",
      "1     GP  \"F\"   17     \"U\"   \"GT3\"     \"T\"    1    1  \"at_home\"     \"other\"   \n",
      "2     GP  \"F\"   15     \"U\"   \"LE3\"     \"T\"    1    1  \"at_home\"     \"other\"   \n",
      "3     GP  \"F\"   15     \"U\"   \"GT3\"     \"T\"    4    2   \"health\"  \"services\"   \n",
      "4     GP  \"F\"   16     \"U\"   \"GT3\"     \"T\"    3    3    \"other\"     \"other\"   \n",
      "\n",
      "   ... famrel freetime goout  dalc walc health absences  g1  g2  g3  \n",
      "0  ...      4        3     4     1    1      3        4   0  11  11  \n",
      "1  ...      5        3     3     1    1      3        2   9  11  11  \n",
      "2  ...      4        3     2     2    3      3        6  12  13  12  \n",
      "3  ...      3        2     2     1    1      5        0  14  14  14  \n",
      "4  ...      4        3     2     1    2      5        0  11  13  13  \n",
      "\n",
      "[5 rows x 33 columns]\n",
      "Correlation between study time and final grade (G3): 0.25\n"
     ]
    }
   ],
   "source": [
    "import pandas as pd\n",
    "\n",
    "file_path = r\"C:\\Users\\Ashish\\OneDrive\\Desktop\\Jupyter Notebook\\student-por.xlsx\"\n",
    "\n",
    "try:\n",
    "    raw_data = pd.read_excel(file_path)\n",
    "    \n",
    "    data = pd.DataFrame([x.split(';') for x in raw_data.iloc[:, 0].str.strip().values],\n",
    "                       columns=['school', 'sex', 'age', 'address', 'famsize', 'pstatus',\n",
    "                               'medu', 'fedu', 'mjob', 'fjob', 'reason', 'guardian',\n",
    "                               'traveltime', 'studytime', 'failures', 'schoolsup',\n",
    "                               'famsup', 'paid', 'activities', 'nursery', 'higher',\n",
    "                               'internet', 'romantic', 'famrel', 'freetime', 'goout',\n",
    "                               'dalc', 'walc', 'health', 'absences', 'g1', 'g2', 'g3'])\n",
    "    \n",
    "    numeric_columns = ['age', 'studytime', 'g1', 'g2', 'g3']\n",
    "    for col in numeric_columns:\n",
    "        data[col] = data[col].str.replace('\"', '').str.strip()\n",
    "        data[col] = pd.to_numeric(data[col], errors='coerce')\n",
    "\n",
    "    print(\"\\nColumns in the dataset after loading:\", data.columns)\n",
    "    print(\"\\nFirst few rows of the processed data:\")\n",
    "    print(data.head())\n",
    "\n",
    "     # iii. Is there a correlation between study time (studytime) and the final grade (G3)?\n",
    "    correlation_studytime_g3 = data['studytime'].corr(data['g3'])\n",
    "    print(f\"Correlation between study time and final grade (G3): {correlation_studytime_g3:.2f}\")\n",
    "\n",
    "except Exception as e:\n",
    "    print(f\"Error processing the file: {e}\")\n",
    "    raise\n"
   ]
  },
  {
   "cell_type": "code",
   "execution_count": 13,
   "id": "ec4098bf-ca9a-42c5-8fe5-e4e1d620a69e",
   "metadata": {},
   "outputs": [
    {
     "name": "stdout",
     "output_type": "stream",
     "text": [
      "\n",
      "Columns in the dataset after loading: Index(['school', 'sex', 'age', 'address', 'famsize', 'pstatus', 'medu', 'fedu',\n",
      "       'mjob', 'fjob', 'reason', 'guardian', 'traveltime', 'studytime',\n",
      "       'failures', 'schoolsup', 'famsup', 'paid', 'activities', 'nursery',\n",
      "       'higher', 'internet', 'romantic', 'famrel', 'freetime', 'goout', 'dalc',\n",
      "       'walc', 'health', 'absences', 'g1', 'g2', 'g3'],\n",
      "      dtype='object')\n",
      "\n",
      "First few rows of the processed data:\n",
      "  school  sex  age address famsize pstatus medu fedu       mjob        fjob  \\\n",
      "0     GP  \"F\"   18     \"U\"   \"GT3\"     \"A\"    4    4  \"at_home\"   \"teacher\"   \n",
      "1     GP  \"F\"   17     \"U\"   \"GT3\"     \"T\"    1    1  \"at_home\"     \"other\"   \n",
      "2     GP  \"F\"   15     \"U\"   \"LE3\"     \"T\"    1    1  \"at_home\"     \"other\"   \n",
      "3     GP  \"F\"   15     \"U\"   \"GT3\"     \"T\"    4    2   \"health\"  \"services\"   \n",
      "4     GP  \"F\"   16     \"U\"   \"GT3\"     \"T\"    3    3    \"other\"     \"other\"   \n",
      "\n",
      "   ... famrel freetime goout  dalc walc health absences  g1  g2  g3  \n",
      "0  ...      4        3     4     1    1      3        4   0  11  11  \n",
      "1  ...      5        3     3     1    1      3        2   9  11  11  \n",
      "2  ...      4        3     2     2    3      3        6  12  13  12  \n",
      "3  ...      3        2     2     1    1      5        0  14  14  14  \n",
      "4  ...      4        3     2     1    2      5        0  11  13  13  \n",
      "\n",
      "[5 rows x 33 columns]\n",
      "\n",
      "Average final grade (G3) by gender:\n",
      "sex\n",
      "\"F\"    12.253264\n",
      "\"M\"    11.406015\n",
      "Name: g3, dtype: float64\n"
     ]
    }
   ],
   "source": [
    "import pandas as pd\n",
    "\n",
    "file_path = r\"C:\\Users\\Ashish\\OneDrive\\Desktop\\Jupyter Notebook\\student-por.xlsx\"\n",
    "\n",
    "try:\n",
    "    raw_data = pd.read_excel(file_path)\n",
    "\n",
    "    data = pd.DataFrame([x.split(';') for x in raw_data.iloc[:, 0].str.strip().values],\n",
    "                       columns=['school', 'sex', 'age', 'address', 'famsize', 'pstatus',\n",
    "                               'medu', 'fedu', 'mjob', 'fjob', 'reason', 'guardian',\n",
    "                               'traveltime', 'studytime', 'failures', 'schoolsup',\n",
    "                               'famsup', 'paid', 'activities', 'nursery', 'higher',\n",
    "                               'internet', 'romantic', 'famrel', 'freetime', 'goout',\n",
    "                               'dalc', 'walc', 'health', 'absences', 'g1', 'g2', 'g3'])\n",
    "    \n",
    "    numeric_columns = ['age', 'studytime', 'g1', 'g2', 'g3']\n",
    "    for col in numeric_columns:\n",
    "        data[col] = data[col].str.replace('\"', '').str.strip()\n",
    "        data[col] = pd.to_numeric(data[col], errors='coerce')\n",
    "\n",
    "    print(\"\\nColumns in the dataset after loading:\", data.columns)\n",
    "    print(\"\\nFirst few rows of the processed data:\")\n",
    "    print(data.head())\n",
    "\n",
    "  # iv. Which gender has a higher average final grade (G3)?\n",
    "    average_score_by_gender = data.groupby('sex')['g3'].mean()\n",
    "    print(f\"\\nAverage final grade (G3) by gender:\\n{average_score_by_gender}\")\n",
    "\n",
    "\n",
    "except Exception as e:\n",
    "    print(f\"Error processing the file: {e}\")\n",
    "    raise\n"
   ]
  },
  {
   "cell_type": "code",
   "execution_count": null,
   "id": "b12e9553-7f54-4590-b37e-40a64ded3f39",
   "metadata": {},
   "outputs": [],
   "source": [
    "e. Data Visualization\n",
    "i. Plot a histogram of final grades (G3).\n",
    "ii. Create a scatter plot between study time (study time) and final grade (G3).\n",
    "iii. Create a bar chart comparing the average scores of male and female students.\n"
   ]
  },
  {
   "cell_type": "code",
   "execution_count": 14,
   "id": "b54c5c76-4167-4a12-8097-8693a7026a0f",
   "metadata": {},
   "outputs": [
    {
     "name": "stdout",
     "output_type": "stream",
     "text": [
      "\n",
      "Grade Distribution Statistics:\n",
      "count    649.000000\n",
      "mean      11.906009\n",
      "std        3.230656\n",
      "min        0.000000\n",
      "25%       10.000000\n",
      "50%       12.000000\n",
      "75%       14.000000\n",
      "max       19.000000\n",
      "Name: g3, dtype: float64\n"
     ]
    }
   ],
   "source": [
    " import pandas as pd\n",
    "import matplotlib.pyplot as plt\n",
    "import numpy as np\n",
    "\n",
    "# Path to the Excel file\n",
    "file_path = r\"C:\\Users\\Ashish\\OneDrive\\Desktop\\Jupyter Notebook\\student-por.xlsx\"\n",
    "\n",
    "# Load and process the data\n",
    "raw_data = pd.read_excel(file_path)\n",
    "data = pd.DataFrame([x.split(';') for x in raw_data.iloc[:, 0].str.strip().values],\n",
    "                   columns=['school', 'sex', 'age', 'address', 'famsize', 'pstatus',\n",
    "                           'medu', 'fedu', 'mjob', 'fjob', 'reason', 'guardian',\n",
    "                           'traveltime', 'studytime', 'failures', 'schoolsup',\n",
    "                           'famsup', 'paid', 'activities', 'nursery', 'higher',\n",
    "                           'internet', 'romantic', 'famrel', 'freetime', 'goout',\n",
    "                           'dalc', 'walc', 'health', 'absences', 'g1', 'g2', 'g3'])\n",
    "\n",
    "# Clean and convert numeric columns\n",
    "numeric_columns = ['studytime', 'g3']\n",
    "for col in numeric_columns:\n",
    "    data[col] = data[col].str.replace('\"', '').str.strip()\n",
    "    data[col] = pd.to_numeric(data[col], errors='coerce')\n",
    "\n",
    "# i. Histogram of final grades (G3)\n",
    "plt.figure(figsize=(10, 6))\n",
    "plt.hist(data['g3'], bins=20, color='skyblue', edgecolor='black')\n",
    "plt.title('Distribution of Final Grades (G3)', pad=15)\n",
    "plt.xlabel('Final Grade')\n",
    "plt.ylabel('Number of Students')\n",
    "plt.grid(True, linestyle='--', alpha=0.7)\n",
    "plt.savefig('final_grades_histogram.png', bbox_inches='tight', dpi=300)\n",
    "plt.close()\n",
    "\n",
    "# Print some statistics to accompany the visualizations\n",
    "print(\"\\nGrade Distribution Statistics:\")\n",
    "print(data['g3'].describe())\n"
   ]
  },
  {
   "cell_type": "code",
   "execution_count": 15,
   "id": "3b87c3ab-5bc0-4362-995f-d4905f7a2e61",
   "metadata": {},
   "outputs": [
    {
     "name": "stdout",
     "output_type": "stream",
     "text": [
      "\n",
      "Average Grades by Gender:\n",
      "          mean  count       std\n",
      "sex                            \n",
      "\"F\"  12.253264    383  3.124147\n",
      "\"M\"  11.406015    266  3.320690\n"
     ]
    }
   ],
   "source": [
    " import pandas as pd\n",
    "import matplotlib.pyplot as plt\n",
    "import numpy as np\n",
    "\n",
    "file_path = r\"C:\\Users\\Ashish\\OneDrive\\Desktop\\Jupyter Notebook\\student-por.xlsx\"\n",
    "\n",
    "raw_data = pd.read_excel(file_path)\n",
    "data = pd.DataFrame([x.split(';') for x in raw_data.iloc[:, 0].str.strip().values],\n",
    "                   columns=['school', 'sex', 'age', 'address', 'famsize', 'pstatus',\n",
    "                           'medu', 'fedu', 'mjob', 'fjob', 'reason', 'guardian',\n",
    "                           'traveltime', 'studytime', 'failures', 'schoolsup',\n",
    "                           'famsup', 'paid', 'activities', 'nursery', 'higher',\n",
    "                           'internet', 'romantic', 'famrel', 'freetime', 'goout',\n",
    "                           'dalc', 'walc', 'health', 'absences', 'g1', 'g2', 'g3'])\n",
    "\n",
    "numeric_columns = ['studytime', 'g3']\n",
    "for col in numeric_columns:\n",
    "    data[col] = data[col].str.replace('\"', '').str.strip()\n",
    "    data[col] = pd.to_numeric(data[col], errors='coerce')\n",
    "\n",
    "# ii. Scatter plot between study time and final grade\n",
    "plt.figure(figsize=(10, 6))\n",
    "plt.scatter(data['studytime'], data['g3'], alpha=0.5, color='cornflowerblue')\n",
    "plt.title('Study Time vs Final Grade', pad=15)\n",
    "plt.xlabel('Study Time (hours)')\n",
    "plt.ylabel('Final Grade (G3)')\n",
    "\n",
    "z = np.polyfit(data['studytime'].dropna(), data['g3'].dropna(), 1)\n",
    "p = np.poly1d(z)\n",
    "plt.plot(data['studytime'].dropna(), p(data['studytime'].dropna()), \"r--\", alpha=0.8, \n",
    "         label=f'Trend line (correlation: {data[\"studytime\"].corr(data[\"g3\"]):.2f})')\n",
    "plt.legend()\n",
    "plt.grid(True, linestyle='--', alpha=0.7)\n",
    "plt.savefig('study_time_vs_grade_scatter.png', bbox_inches='tight', dpi=300)\n",
    "plt.close()\n",
    "\n",
    "print(\"\\nAverage Grades by Gender:\")\n",
    "print(data.groupby('sex')['g3'].agg(['mean', 'count', 'std']))\n",
    "\n"
   ]
  },
  {
   "cell_type": "code",
   "execution_count": 16,
   "id": "fc15da96-9602-4f0f-8f6d-00668ca6e88e",
   "metadata": {},
   "outputs": [
    {
     "name": "stdout",
     "output_type": "stream",
     "text": [
      "\n",
      "Study Time Statistics:\n",
      "count    649.000000\n",
      "mean       1.930663\n",
      "std        0.829510\n",
      "min        1.000000\n",
      "25%        1.000000\n",
      "50%        2.000000\n",
      "75%        2.000000\n",
      "max        4.000000\n",
      "Name: studytime, dtype: float64\n"
     ]
    }
   ],
   "source": [
    "import pandas as pd\n",
    "import matplotlib.pyplot as plt\n",
    "import numpy as np\n",
    "\n",
    "file_path = r\"C:\\Users\\Ashish\\OneDrive\\Desktop\\Jupyter Notebook\\student-por.xlsx\"\n",
    "\n",
    "raw_data = pd.read_excel(file_path)\n",
    "data = pd.DataFrame([x.split(';') for x in raw_data.iloc[:, 0].str.strip().values],\n",
    "                   columns=['school', 'sex', 'age', 'address', 'famsize', 'pstatus',\n",
    "                           'medu', 'fedu', 'mjob', 'fjob', 'reason', 'guardian',\n",
    "                           'traveltime', 'studytime', 'failures', 'schoolsup',\n",
    "                           'famsup', 'paid', 'activities', 'nursery', 'higher',\n",
    "                           'internet', 'romantic', 'famrel', 'freetime', 'goout',\n",
    "                           'dalc', 'walc', 'health', 'absences', 'g1', 'g2', 'g3'])\n",
    "\n",
    "numeric_columns = ['studytime', 'g3']\n",
    "for col in numeric_columns:\n",
    "    data[col] = data[col].str.replace('\"', '').str.strip()\n",
    "    data[col] = pd.to_numeric(data[col], errors='coerce')\n",
    "\n",
    "    \n",
    "plt.figure(figsize=(8, 6))\n",
    "avg_scores = data.groupby('sex')['g3'].mean()\n",
    "bars = plt.bar(avg_scores.index, avg_scores.values, color=['lightblue', 'lightpink'])\n",
    "plt.title('Average Final Grades by Gender', pad=15)\n",
    "plt.xlabel('Gender')\n",
    "plt.ylabel('Average Final Grade (G3)')\n",
    "\n",
    "for bar in bars:\n",
    "    height = bar.get_height()\n",
    "    plt.text(bar.get_x() + bar.get_width()/2., height,\n",
    "             f'{height:.2f}',\n",
    "             ha='center', va='bottom')\n",
    "\n",
    "plt.grid(True, linestyle='--', alpha=0.7)\n",
    "plt.savefig('gender_comparison_bar.png', bbox_inches='tight', dpi=300)\n",
    "plt.close()\n",
    "\n",
    "print(\"\\nStudy Time Statistics:\")\n",
    "print(data['studytime'].describe())\n",
    "\n"
   ]
  },
  {
   "cell_type": "code",
   "execution_count": null,
   "id": "d9521780-4f69-4d45-8dfe-1be99c211990",
   "metadata": {},
   "outputs": [],
   "source": []
  }
 ],
 "metadata": {
  "kernelspec": {
   "display_name": "Python 3 (ipykernel)",
   "language": "python",
   "name": "python3"
  },
  "language_info": {
   "codemirror_mode": {
    "name": "ipython",
    "version": 3
   },
   "file_extension": ".py",
   "mimetype": "text/x-python",
   "name": "python",
   "nbconvert_exporter": "python",
   "pygments_lexer": "ipython3",
   "version": "3.13.1"
  }
 },
 "nbformat": 4,
 "nbformat_minor": 5
}
